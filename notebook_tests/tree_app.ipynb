{
 "cells": [
  {
   "cell_type": "code",
   "execution_count": 4,
   "metadata": {},
   "outputs": [],
   "source": [
    "import nbappinator as nbapp"
   ]
  },
  {
   "cell_type": "code",
   "execution_count": 5,
   "metadata": {},
   "outputs": [],
   "source": [
    "def get_tree_value(component, action, args, app: nbapp.UiModel, caller: str):\n",
    "    val = app.get_values(\"tree1\")\n",
    "    app.update_status(name=caller, message=f\"Tree selected value = {val}\", running=False)"
   ]
  },
  {
   "cell_type": "code",
   "execution_count": 6,
   "metadata": {},
   "outputs": [
    {
     "data": {
      "text/html": [
       "<script>\n",
       "                    if (window.location.href.indexOf('voila') >= 0){\n",
       "                        const l=document.createElement('link');\n",
       "                        l.setAttribute('rel','stylesheet');  \n",
       "                        l.setAttribute('type','text/css');\n",
       "                        l.setAttribute('href',`${window.location.href.split('/').slice(0,7).join('/')}/static/theme-light.css`);\n",
       "                        document.body.appendChild(l);\n",
       "                        document.body.classList.remove('theme-dark')\n",
       "                        document.body.classList.add('theme-light')\n",
       "                    }\n",
       "                </script>\n",
       "                "
      ],
      "text/plain": [
       "<nbappinator.appinator.ThemeFixer at 0x21dbd613250>"
      ]
     },
     "metadata": {},
     "output_type": "display_data"
    },
    {
     "data": {
      "application/vnd.jupyter.widget-view+json": {
       "model_id": "6225ab46ce0b490791f3eccc985ccf1c",
       "version_major": 2,
       "version_minor": 0
      },
      "text/plain": [
       "Html(children=[Html(children=['\\n    .vuetify-styles code, .vuetify-styles kbd, .vuetify-styles pre, .vuetify-…"
      ]
     },
     "execution_count": 6,
     "metadata": {},
     "output_type": "execute_result"
    }
   ],
   "source": [
    "# Globals that are used throughout the app\n",
    "PAGES = [\"Tree Widget\"]\n",
    "myapp = nbapp.TabbedUiModel(pages=PAGES)\n",
    "\n",
    "mainpage = myapp.get_page(PAGES[0])\n",
    "\n",
    "mainpage.add_textstatic(name=\"t1\", value=\"The following is a selectable tree view\")\n",
    "\n",
    "# Each node must be added in order: can't add org1/something without a preceding org1, for instance.\n",
    "mainpage.add_tree(name=\"tree1\", paths=[\"org1\", \"org1/something\", \"org2\", \"org2/somethingelse\"], delim=\"/\")\n",
    "mainpage.add_button(name=\"get_val\", label=\"Get Selected Value from Tree\", action=get_tree_value, status=True)\n",
    "\n",
    "myapp.display()"
   ]
  }
 ],
 "metadata": {
  "kernelspec": {
   "display_name": "Python 3",
   "language": "python",
   "name": "python3"
  },
  "language_info": {
   "codemirror_mode": {
    "name": "ipython",
    "version": 3
   },
   "file_extension": ".py",
   "mimetype": "text/x-python",
   "name": "python",
   "nbconvert_exporter": "python",
   "pygments_lexer": "ipython3",
   "version": "3.11.8"
  }
 },
 "nbformat": 4,
 "nbformat_minor": 2
}
