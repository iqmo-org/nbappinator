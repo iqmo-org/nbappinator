{
 "cells": [
  {
   "cell_type": "code",
   "execution_count": 1,
   "metadata": {},
   "outputs": [
    {
     "data": {
      "text/html": [
       "<script>\n",
       "                    if (window.location.href.indexOf('voila') >= 0){\n",
       "                        const l=document.createElement('link');\n",
       "                        l.setAttribute('rel','stylesheet');  \n",
       "                        l.setAttribute('type','text/css');\n",
       "                        l.setAttribute('href',`${window.location.href.split('/').slice(0,7).join('/')}/static/theme-light.css`);\n",
       "                        document.body.appendChild(l);\n",
       "                        document.body.classList.remove('theme-dark')\n",
       "                        document.body.classList.add('theme-light')\n",
       "                    }\n",
       "                </script>\n",
       "                "
      ],
      "text/plain": [
       "<nbappinator.appinator.ThemeFixer at 0x17a7fa46850>"
      ]
     },
     "metadata": {},
     "output_type": "display_data"
    },
    {
     "data": {
      "application/vnd.jupyter.widget-view+json": {
       "model_id": "fb0c3783cbd946b88afbc930a95063f7",
       "version_major": 2,
       "version_minor": 0
      },
      "text/plain": [
       "Html(children=[Html(children=['\\n    .vuetify-styles code, .vuetify-styles kbd, .vuetify-styles pre, .vuetify-…"
      ]
     },
     "execution_count": 1,
     "metadata": {},
     "output_type": "execute_result"
    }
   ],
   "source": [
    "### Basic UI Widgets\n",
    "import nbappinator as nbapp\n",
    "\n",
    "PAGES = [\"Table\", \"Chart\"]\n",
    "\n",
    "myapp = nbapp.TabbedUiModel(pages=PAGES, log_footer = \"Messages\", headers=[\"Config\"])\n",
    "\n",
    "page = myapp.get_page(PAGES[0])\n",
    "\n",
    "page.add_textarea(label=\"This is a textarea\")\n",
    "page.add_textfield(label=\"This is a textfield\")\n",
    "page.add_textstatic(\"This is textstatic\")\n",
    "page.add_textpre(\"This is textpre\")\n",
    "page.add_separator(color=\"red\")\n",
    "\n",
    "\n",
    "myapp.display()"
   ]
  },
  {
   "cell_type": "code",
   "execution_count": 2,
   "metadata": {},
   "outputs": [
    {
     "data": {
      "text/html": [
       "<script>\n",
       "                    if (window.location.href.indexOf('voila') >= 0){\n",
       "                        const l=document.createElement('link');\n",
       "                        l.setAttribute('rel','stylesheet');  \n",
       "                        l.setAttribute('type','text/css');\n",
       "                        l.setAttribute('href',`${window.location.href.split('/').slice(0,7).join('/')}/static/theme-light.css`);\n",
       "                        document.body.appendChild(l);\n",
       "                        document.body.classList.remove('theme-dark')\n",
       "                        document.body.classList.add('theme-light')\n",
       "                    }\n",
       "                </script>\n",
       "                "
      ],
      "text/plain": [
       "<nbappinator.appinator.ThemeFixer at 0x17a7fa21a50>"
      ]
     },
     "metadata": {},
     "output_type": "display_data"
    },
    {
     "data": {
      "application/vnd.jupyter.widget-view+json": {
       "model_id": "8bd1d21f71b74bb6b17d1def8f73939e",
       "version_major": 2,
       "version_minor": 0
      },
      "text/plain": [
       "Html(children=[Html(children=['\\n    .vuetify-styles code, .vuetify-styles kbd, .vuetify-styles pre, .vuetify-…"
      ]
     },
     "execution_count": 2,
     "metadata": {},
     "output_type": "execute_result"
    }
   ],
   "source": [
    "### add_df\n",
    "\n",
    "import pandas as pd\n",
    "PAGES = [\"Table\", \"Table 2\"]\n",
    "\n",
    "\n",
    "myapp = nbapp.TabbedUiModel(pages=PAGES, log_footer = \"Messages\", headers=[\"Config\"])\n",
    "page1 = myapp.get_page(PAGES[0])\n",
    "page2 = myapp.get_page(PAGES[1])\n",
    "\n",
    "df = pd.DataFrame({\"col1\": range(10)})\n",
    "page1.add_df(df=df, table_viewer = True)\n",
    "page2.add_df(df=df, action=lambda x: print(f\"You clicked on {x}\"), multiselect=True)\n",
    "\n",
    "myapp.display()"
   ]
  },
  {
   "cell_type": "code",
   "execution_count": null,
   "metadata": {},
   "outputs": [],
   "source": []
  },
  {
   "cell_type": "code",
   "execution_count": 3,
   "metadata": {},
   "outputs": [
    {
     "data": {
      "text/html": [
       "<script>\n",
       "                    if (window.location.href.indexOf('voila') >= 0){\n",
       "                        const l=document.createElement('link');\n",
       "                        l.setAttribute('rel','stylesheet');  \n",
       "                        l.setAttribute('type','text/css');\n",
       "                        l.setAttribute('href',`${window.location.href.split('/').slice(0,7).join('/')}/static/theme-light.css`);\n",
       "                        document.body.appendChild(l);\n",
       "                        document.body.classList.remove('theme-dark')\n",
       "                        document.body.classList.add('theme-light')\n",
       "                    }\n",
       "                </script>\n",
       "                "
      ],
      "text/plain": [
       "<nbappinator.appinator.ThemeFixer at 0x17a7fa7b6d0>"
      ]
     },
     "metadata": {},
     "output_type": "display_data"
    },
    {
     "data": {
      "application/vnd.jupyter.widget-view+json": {
       "model_id": "77663676679141a4904dcc483efaeed8",
       "version_major": 2,
       "version_minor": 0
      },
      "text/plain": [
       "Html(children=[Html(children=['\\n    .vuetify-styles code, .vuetify-styles kbd, .vuetify-styles pre, .vuetify-…"
      ]
     },
     "execution_count": 3,
     "metadata": {},
     "output_type": "execute_result"
    }
   ],
   "source": [
    "### Various features\n",
    "import pandas as pd\n",
    "PAGES = [\"Table\", \"Table 2\"]\n",
    "\n",
    "\n",
    "myapp = nbapp.TabbedUiModel(pages=PAGES, log_footer = \"Messages\", headers=[\"Config\"])\n",
    "\n",
    "# Can get a page by name or index\n",
    "cpage = myapp.get_page(\"Config\")\n",
    "cpage.add_button(\"Some Button\", action=lambda a,b,c,app,caller: app.get_page(0).add_textstatic(f\"You clicked {caller}\"))\n",
    "\n",
    "page1 = myapp.get_page(\"Table\")\n",
    "page2 = myapp.get_page(1)\n",
    "\n",
    "df = pd.DataFrame({\"col1\": range(10)})\n",
    "df2 = pd.DataFrame({\"col1\": range(10)})\n",
    "\n",
    "page1.add_df(df=df)\n",
    "page2.add_df(df=df2, action=lambda x: myapp.get_page(1).add_textstatic(f\"You clicked on {x}\"))\n",
    "\n",
    "page1.clear()\n",
    "\n",
    "with myapp.messages:\n",
    "    print(\"This will go to messages\")\n",
    "\n",
    "myapp.clear_messages()\n",
    "\n",
    "myapp.display()"
   ]
  },
  {
   "cell_type": "code",
   "execution_count": 4,
   "metadata": {},
   "outputs": [
    {
     "name": "stdout",
     "output_type": "stream",
     "text": [
      "['Vertical Box', 'Horizontal Box', 'V Container']\n"
     ]
    },
    {
     "data": {
      "text/html": [
       "<script>\n",
       "                    if (window.location.href.indexOf('voila') >= 0){\n",
       "                        const l=document.createElement('link');\n",
       "                        l.setAttribute('rel','stylesheet');  \n",
       "                        l.setAttribute('type','text/css');\n",
       "                        l.setAttribute('href',`${window.location.href.split('/').slice(0,7).join('/')}/static/theme-light.css`);\n",
       "                        document.body.appendChild(l);\n",
       "                        document.body.classList.remove('theme-dark')\n",
       "                        document.body.classList.add('theme-light')\n",
       "                    }\n",
       "                </script>\n",
       "                "
      ],
      "text/plain": [
       "<nbappinator.appinator.ThemeFixer at 0x17a7fa75190>"
      ]
     },
     "metadata": {},
     "output_type": "display_data"
    },
    {
     "data": {
      "application/vnd.jupyter.widget-view+json": {
       "model_id": "e32d9d1575284cfbaaec0f79b09a2f62",
       "version_major": 2,
       "version_minor": 0
      },
      "text/plain": [
       "Html(children=[Html(children=['\\n    .vuetify-styles code, .vuetify-styles kbd, .vuetify-styles pre, .vuetify-…"
      ]
     },
     "execution_count": 4,
     "metadata": {},
     "output_type": "execute_result"
    }
   ],
   "source": [
    "### Containers\n",
    "import pandas as pd\n",
    "PAGES = [\"Vertical Box\", \"Horizontal Box\", \"V Container\"]\n",
    "\n",
    "\n",
    "myapp = nbapp.TabbedUiModel(pages=PAGES, log_footer = \"Messages\", headers=[\"Config\"])\n",
    "page1 = myapp.get_page(0)\n",
    "page2 = myapp.get_page(1)\n",
    "page3 = myapp.get_page(2)\n",
    "\n",
    "box1 = page1.add_box(name=\"SomeBox\", horiz=False)\n",
    "box1.add_textstatic(\"Hi\")\n",
    "box1.add_button(label=\"Click Me\", action=lambda a,b,c,app, caller: print(f\"I was called from: {caller}\"))\n",
    "\n",
    "box2 = page2.add_box(name=\"SomeBox2\", horiz=True)\n",
    "box2.add_textstatic(\"Horizontal\")\n",
    "box2.add_button(label=\"Click Me2\", action=lambda a,b,c,app, caller: print(f\"I was called from: {caller}\"))\n",
    "box2.add_textstatic(\"Box\")\n",
    "\n",
    "container = page3.add_container(\"v.Container\")\n",
    "container.add_button(label=\"Click Me3\", action=lambda a,b,c,app, caller: print(f\"I was called from: {caller}\"))\n",
    "\n",
    "print(myapp.pages)\n",
    "myapp.display()"
   ]
  },
  {
   "cell_type": "code",
   "execution_count": 5,
   "metadata": {},
   "outputs": [
    {
     "data": {
      "text/html": [
       "<script>\n",
       "                    if (window.location.href.indexOf('voila') >= 0){\n",
       "                        const l=document.createElement('link');\n",
       "                        l.setAttribute('rel','stylesheet');  \n",
       "                        l.setAttribute('type','text/css');\n",
       "                        l.setAttribute('href',`${window.location.href.split('/').slice(0,7).join('/')}/static/theme-light.css`);\n",
       "                        document.body.appendChild(l);\n",
       "                        document.body.classList.remove('theme-dark')\n",
       "                        document.body.classList.add('theme-light')\n",
       "                    }\n",
       "                </script>\n",
       "                "
      ],
      "text/plain": [
       "<nbappinator.appinator.ThemeFixer at 0x17a7faf0fd0>"
      ]
     },
     "metadata": {},
     "output_type": "display_data"
    },
    {
     "data": {
      "application/vnd.jupyter.widget-view+json": {
       "model_id": "80ec5893027d44d9b35b2eb0a5126ef3",
       "version_major": 2,
       "version_minor": 0
      },
      "text/plain": [
       "Html(children=[Html(children=['\\n    .vuetify-styles code, .vuetify-styles kbd, .vuetify-styles pre, .vuetify-…"
      ]
     },
     "execution_count": 5,
     "metadata": {},
     "output_type": "execute_result"
    }
   ],
   "source": [
    "### Basic UI Widgets\n",
    "import nbappinator as nbapp\n",
    "\n",
    "PAGES = [\"Table\", \"Chart\"]\n",
    "\n",
    "myapp = nbapp.TabbedUiModel(pages=PAGES, title=\"Some Title That'll Only Show Up in Voila\", log_footer = \"Messages\", headers=[\"Config\"])\n",
    "\n",
    "page = myapp.get_page(PAGES[0])\n",
    "\n",
    "page.add_textstatic(\"This is textstatic\")\n",
    "page.add_select(label=\"This is a dropdown\", options=[\"A\", \"B\"], action=lambda a,b,value,app,caller: app.get_page(0).add_textstatic(f\"You clicked on {value}\"))\n",
    "page.add_select(label=\"This is a combobox: you can also type text\", type=nbapp.SelectTypes.combobox, options=[\"A\", \"B\"], action=lambda a,b,value,app,caller: app.get_page(0).add_textstatic(f\"You clicked on {value}\"))\n",
    "page.add_select(label=\"This is a slider\", type=nbapp.SelectTypes.slider, options=range(0,100), action=lambda a,b,value,app,caller: app.get_page(0).add_textstatic(f\"You slide to {value}\"))\n",
    "page.add_select(label=\"This is a radio\", type=nbapp.SelectTypes.radio, options=[\"A\", \"B\"], action=lambda a,b,value,app,caller: app.get_page(0).add_textstatic(f\"You clicked on {value}\"))\n",
    "\n",
    "page.add_separator(color=\"red\")\n",
    "\n",
    "\n",
    "myapp.display()"
   ]
  },
  {
   "cell_type": "code",
   "execution_count": 6,
   "metadata": {},
   "outputs": [
    {
     "data": {
      "text/html": [
       "<script>\n",
       "                    if (window.location.href.indexOf('voila') >= 0){\n",
       "                        const l=document.createElement('link');\n",
       "                        l.setAttribute('rel','stylesheet');  \n",
       "                        l.setAttribute('type','text/css');\n",
       "                        l.setAttribute('href',`${window.location.href.split('/').slice(0,7).join('/')}/static/theme-light.css`);\n",
       "                        document.body.appendChild(l);\n",
       "                        document.body.classList.remove('theme-dark')\n",
       "                        document.body.classList.add('theme-light')\n",
       "                    }\n",
       "                </script>\n",
       "                "
      ],
      "text/plain": [
       "<nbappinator.appinator.ThemeFixer at 0x17a7fb075d0>"
      ]
     },
     "metadata": {},
     "output_type": "display_data"
    },
    {
     "data": {
      "application/vnd.jupyter.widget-view+json": {
       "model_id": "a99560846a044b90b7b380fa9d7ed02a",
       "version_major": 2,
       "version_minor": 0
      },
      "text/plain": [
       "Html(children=[Html(children=['\\n    .vuetify-styles code, .vuetify-styles kbd, .vuetify-styles pre, .vuetify-…"
      ]
     },
     "execution_count": 6,
     "metadata": {},
     "output_type": "execute_result"
    }
   ],
   "source": [
    "### Adding a page and Removing\n",
    "import nbappinator as nbapp\n",
    "\n",
    "PAGES = [\"Table\", \"Chart\"]\n",
    "\n",
    "myapp = nbapp.TabbedUiModel(pages=PAGES, title=\"Some Title That'll Only Show Up in Voila\", log_footer = \"Messages\", headers=[\"Config\"])\n",
    "\n",
    "myapp.add_page(\"Page 3\")\n",
    "\n",
    "myapp.remove_page(\"Table\")\n",
    "\n",
    "myapp.display()\n"
   ]
  }
 ],
 "metadata": {
  "kernelspec": {
   "display_name": "Python 3",
   "language": "python",
   "name": "python3"
  },
  "language_info": {
   "codemirror_mode": {
    "name": "ipython",
    "version": 3
   },
   "file_extension": ".py",
   "mimetype": "text/x-python",
   "name": "python",
   "nbconvert_exporter": "python",
   "pygments_lexer": "ipython3",
   "version": "3.11.8"
  }
 },
 "nbformat": 4,
 "nbformat_minor": 2
}
