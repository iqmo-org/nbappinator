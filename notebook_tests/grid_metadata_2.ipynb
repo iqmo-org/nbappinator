{
 "cells": [
  {
   "cell_type": "markdown",
   "metadata": {},
   "source": [
    "# Displaying a DataGrid\n",
    "\n",
    "This example doesn't use the appinator, it only uses the underlying DataGrid widget.\n",
    "\n",
    "Features shown:\n",
    "- Display a table\n",
    "- Set column metadata to control formatting\n",
    "- Add a click handler for clicking on Cells\n",
    "\n",
    "A few notes:\n",
    "- Columns are, by default, Title Cased... so: sepal_length is displayed as Sepal Length"
   ]
  },
  {
   "cell_type": "code",
   "execution_count": 1,
   "metadata": {},
   "outputs": [],
   "source": [
    "import pandas as pd\n",
    "from nbappinator.datagrid import DataGrid, ColMd\n",
    "\n",
    "import logging \n",
    "logger = logging.getLogger(__name__)"
   ]
  },
  {
   "cell_type": "code",
   "execution_count": 2,
   "metadata": {
    "tags": []
   },
   "outputs": [
    {
     "data": {
      "application/vnd.jupyter.widget-view+json": {
       "model_id": "e7639a114f8645f0ac93cea6a5e57663",
       "version_major": 2,
       "version_minor": 0
      },
      "text/plain": [
       "DataGrid(columns_fit='auto', compress_data=True, export_mode='disabled', height='500px', js_post_grid=['\\n    …"
      ]
     },
     "execution_count": 2,
     "metadata": {},
     "output_type": "execute_result"
    }
   ],
   "source": [
    "data = pd.DataFrame({\"species\": range(20), \"sepal_length\": range(2000000, 2000020)})\n",
    "\n",
    "col_md = [\n",
    "    ColMd(name=\"species\", pinned=True),\n",
    "    ColMd(name=\"sepal_length\", label=\"Length of Sepal\", format=\"mag_si\", precision=3)\n",
    "]\n",
    "grid = DataGrid(quick_filter=True,\n",
    "             theme='ag-theme-balham',\n",
    "             compress_data=True,\n",
    "             col_md=col_md,\n",
    "             grid_data=data,\n",
    "             columns_fit=\"auto\",\n",
    "             events=[\"cellClicked\"]\n",
    "            )\n",
    "grid"
   ]
  }
 ],
 "metadata": {
  "kernelspec": {
   "display_name": "Python 3 (ipykernel)",
   "language": "python",
   "name": "python3"
  },
  "language_info": {
   "codemirror_mode": {
    "name": "ipython",
    "version": 3
   },
   "file_extension": ".py",
   "mimetype": "text/x-python",
   "name": "python",
   "nbconvert_exporter": "python",
   "pygments_lexer": "ipython3",
   "version": "3.11.8"
  }
 },
 "nbformat": 4,
 "nbformat_minor": 4
}
