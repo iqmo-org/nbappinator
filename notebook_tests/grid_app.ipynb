{
 "cells": [
  {
   "cell_type": "code",
   "execution_count": 1,
   "metadata": {},
   "outputs": [],
   "source": [
    "import nbappinator as nbapp\n",
    "import pandas as pd\n",
    "import numpy as np\n",
    "import plotly.express as px"
   ]
  },
  {
   "cell_type": "code",
   "execution_count": 2,
   "metadata": {},
   "outputs": [],
   "source": [
    "# Globals that are used throughout the app\n",
    "\n",
    "PAGES = [\"Table\", \"Chart\"]\n",
    "\n",
    "DF = pd.DataFrame(np.random.uniform(1, 1000, size=(20, 10)), columns=[f\"col_{r}\" for r in range(0,10)])\n",
    "\n",
    "def get_df() -> pd.DataFrame:\n",
    "    return DF\n"
   ]
  },
  {
   "cell_type": "code",
   "execution_count": 3,
   "metadata": {},
   "outputs": [],
   "source": [
    "def update_click(component, action, args, app: nbapp.UiModel, caller: str):\n",
    "    with app.messages: \n",
    "        print(f\"update_click called, {action}\")\n",
    "\n",
    "        target_page = app.get_page(PAGES[0])\n",
    "        # Sends stdout to the messages box underneath app. We'll usually use a logger here. \n",
    "        print(f\"update_click called, {action}\")\n",
    "\n",
    "        # Updates the status box next to the button\n",
    "        app.update_status(caller, \"Updating DF\", running=True)\n",
    "\n",
    "        target_page.clear()  # Removes any previously displayed data from the page\n",
    "\n",
    "        precision: int = app.get_values(\"c.precision\")  # type: ignore\n",
    "\n",
    "        df = get_df()\n",
    "        target_page.add_df(name=\"table1\", df=df, action = lambda x: print(f\"You clicked on {x}\"), precision = precision)\n",
    "\n",
    "        app.update_status(caller, \"Done creating DF\", running=False)\n",
    "        print(\"update_click done\")\n",
    "\n",
    "\n",
    "def add_chart(component, action, args, app: nbapp.UiModel, caller: str):\n",
    "    with app.messages: \n",
    "        # Get the current DF from the widgets\n",
    "        app.update_status(\"b_chart\", \"Creating chart\", running=False)\n",
    "        target_page = app.get_page(PAGES[1])\n",
    "        \n",
    "        target_page.clear()  # Removes any previously displayed data from the page\n",
    "\n",
    "        df = get_df()\n",
    "        fig = px.line(df, y=df.columns)\n",
    "        target_page.add_plotly_fig(name=\"chart1\", fig=fig)\n",
    "        app.update_status(\"b_chart\", \"Done creating chart\", running=False)\n"
   ]
  },
  {
   "cell_type": "code",
   "execution_count": 4,
   "metadata": {},
   "outputs": [
    {
     "data": {
      "text/html": [
       "<script>\n",
       "                    if (window.location.href.indexOf('voila') >= 0){\n",
       "                        const l=document.createElement('link');\n",
       "                        l.setAttribute('rel','stylesheet');  \n",
       "                        l.setAttribute('type','text/css');\n",
       "                        l.setAttribute('href',`${window.location.href.split('/').slice(0,7).join('/')}/static/theme-light.css`);\n",
       "                        document.body.appendChild(l);\n",
       "                        document.body.classList.remove('theme-dark')\n",
       "                        document.body.classList.add('theme-light')\n",
       "                    }\n",
       "                </script>\n",
       "                "
      ],
      "text/plain": [
       "<nbappinator.appinator.ThemeFixer at 0x200e2a7d9d0>"
      ]
     },
     "metadata": {},
     "output_type": "display_data"
    },
    {
     "data": {
      "application/vnd.jupyter.widget-view+json": {
       "model_id": "673e1fc5e22c4b9095ddfaf55a4e9bb8",
       "version_major": 2,
       "version_minor": 0
      },
      "text/plain": [
       "Html(children=[Html(children=['\\n    .vuetify-styles code, .vuetify-styles kbd, .vuetify-styles pre, .vuetify-…"
      ]
     },
     "execution_count": 4,
     "metadata": {},
     "output_type": "execute_result"
    }
   ],
   "source": [
    "# Creates a one \"tab\" app, with a config section on top, and a dataframe grid below.\n",
    "# Clicking \"Update Precision\" will redraw the dataframe grid with the selected precision\n",
    "\n",
    "myapp = nbapp.TabbedUiModel(pages=PAGES, log_footer = \"Messages\", headers=[\"Config\"])\n",
    "\n",
    "config_page = myapp.get_page(\"Config\")\n",
    "\n",
    "config_page.add_select(name=\"c.precision\", label=\"Precision\", options=[0,1,2,3,4,5], value=2)\n",
    "\n",
    "container = config_page.add_container(name=\"some_container\")\n",
    "#buttons_box = config_page.add_box(name=\"buttons_box\", horiz=True)\n",
    "\n",
    "container.add_separator(name=\"foo\", color=\"red\")\n",
    "container.clear()\n",
    "container.add_separator(name=\"foo\", color=\"blue\")\n",
    "\n",
    "config_page.add_button(name=\"b_update\", label=\"Update Precision\", action=update_click, status=True)\n",
    "config_page.add_button(name=\"b_chart\", label=\"Add Chart\", action=add_chart, status=True)\n",
    "\n",
    "myapp.get_page(1).add_textstatic(name=\"Notice\", value=\"Click Add Chart to Populate This Page\")\n",
    "\n",
    "# Initialize\n",
    "#update_click(None, None, None, app=myapp, caller=\"b_update\")\n",
    "myapp.display()"
   ]
  }
 ],
 "metadata": {
  "kernelspec": {
   "display_name": "Python 3 (ipykernel)",
   "language": "python",
   "name": "python3"
  },
  "language_info": {
   "codemirror_mode": {
    "name": "ipython",
    "version": 3
   },
   "file_extension": ".py",
   "mimetype": "text/x-python",
   "name": "python",
   "nbconvert_exporter": "python",
   "pygments_lexer": "ipython3",
   "version": "3.11.8"
  }
 },
 "nbformat": 4,
 "nbformat_minor": 4
}
