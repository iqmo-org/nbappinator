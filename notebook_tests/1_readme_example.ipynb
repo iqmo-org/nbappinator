{
 "cells": [
  {
   "cell_type": "code",
   "execution_count": 1,
   "metadata": {},
   "outputs": [
    {
     "data": {
      "text/html": [
       "<script>\n",
       "                    if (window.location.href.indexOf('voila') >= 0){\n",
       "                        const l=document.createElement('link');\n",
       "                        l.setAttribute('rel','stylesheet');  \n",
       "                        l.setAttribute('type','text/css');\n",
       "                        l.setAttribute('href',`${window.location.href.split('/').slice(0,7).join('/')}/static/theme-light.css`);\n",
       "                        document.body.appendChild(l);\n",
       "                        document.body.classList.remove('theme-dark')\n",
       "                        document.body.classList.add('theme-light')\n",
       "                    }\n",
       "                </script>\n",
       "                "
      ],
      "text/plain": [
       "<nbappinator.appinator.ThemeFixer at 0x1748c650590>"
      ]
     },
     "metadata": {},
     "output_type": "display_data"
    },
    {
     "data": {
      "application/vnd.jupyter.widget-view+json": {
       "model_id": "22d54cdb7e2d4c71b74e50c83d4c93dd",
       "version_major": 2,
       "version_minor": 0
      },
      "text/plain": [
       "Html(children=[Html(children=['\\n    .vuetify-styles code, .vuetify-styles kbd, .vuetify-styles pre, .vuetify-…"
      ]
     },
     "execution_count": 1,
     "metadata": {},
     "output_type": "execute_result"
    }
   ],
   "source": [
    "import nbappinator as nbapp\n",
    "\n",
    "def my_action(component, action, args, app: nbapp.UiModel, caller: str):\n",
    "    with app.messages:\n",
    "        print(\"This message will be written to the Messages footer\")\n",
    "        app.get_page(0).add_textstatic(\"This is some text\")\n",
    "\n",
    "def choose_action(component, action, args, app: nbapp.UiModel, caller: str):\n",
    "    with app.messages:\n",
    "        chosen_value = app.get_values(caller)\n",
    "        print(f\"You chose {chosen_value}\")\n",
    "        app.get_page(1).add_textstatic(f\"You chose {chosen_value}\")\n",
    "\n",
    "# Create a Tabbed UI comprised of three sections:\n",
    "# \"Config\" Header,  Tabbed Pages: \"First Tab\" and \"Second Tab\", and a \"Messages\" Footer\n",
    "myapp = nbapp.TabbedUiModel(pages=[\"First Tab\", \"Second Tab\"], log_footer = \"Messages\", headers=[\"Config\"])\n",
    "myapp.get_page(\"Config\").add_textstatic(\"This is some static text in the Config section of the page. You could add global settings, buttons and other widgets here.\")\n",
    "\n",
    "# Add a button to First Tab\n",
    "myapp.get_page(0).add_button(name=\"but1\", label=\"Some button\", action=my_action)\n",
    "myapp.get_page(0).add_textstatic(\"Click the button\")\n",
    "\n",
    "# Add a dropdown selection to Second Tab\n",
    "myapp.get_page(1).add_select(name=\"choose1\", label=\"Choose A Number\", options=list(range(10)), action=choose_action)\n",
    "\n",
    "# Render the app:\n",
    "myapp.display()"
   ]
  }
 ],
 "metadata": {
  "kernelspec": {
   "display_name": "Python 3",
   "language": "python",
   "name": "python3"
  },
  "language_info": {
   "codemirror_mode": {
    "name": "ipython",
    "version": 3
   },
   "file_extension": ".py",
   "mimetype": "text/x-python",
   "name": "python",
   "nbconvert_exporter": "python",
   "pygments_lexer": "ipython3",
   "version": "3.11.8"
  }
 },
 "nbformat": 4,
 "nbformat_minor": 2
}
