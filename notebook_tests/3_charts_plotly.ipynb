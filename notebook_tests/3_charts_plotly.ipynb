{
 "cells": [
  {
   "cell_type": "code",
   "execution_count": 1,
   "metadata": {},
   "outputs": [],
   "source": [
    "import pandas as pd\n",
    "import nbappinator as nbapp\n",
    "\n",
    "from nbappinator import plotly_charts\n",
    "\n",
    "import plotly.express as px\n",
    "\n",
    "PAGES = [\"Chart1\", \"Chart2\", \"Chart3-png\"]\n",
    "\n",
    "plotly_charts.set_default_template()"
   ]
  },
  {
   "cell_type": "code",
   "execution_count": 2,
   "metadata": {},
   "outputs": [],
   "source": [
    "\n",
    "def add_chart(component, action, args, app: nbapp.UiModel, caller: str):\n",
    "    with app.messages:\n",
    "        target_page = app.get_page(0)\n",
    "        target_page.clear()\n",
    "\n",
    "        app.update_status(name=caller, message=\"Drawing Chart\", running=True)\n",
    "        source = target_page.app.get_valuestr(\"source\")\n",
    "\n",
    "        df = pd.read_csv(source)\n",
    "        fig = px.scatter_matrix(df, dimensions=df.columns, color=\"species\")\n",
    "        target_page.add_plotly_fig(fig=fig)\n",
    "\n",
    "\n",
    "        fig2 = px.scatter_matrix(df, dimensions=df.columns, color=\"species\")\n",
    "        app.get_page(1).add_plotly_fig(fig=fig2, height=200, width=200)\n",
    "\n",
    "\n",
    "        fig3 = px.scatter(df[0:10], x=\"sepal_length\", y=\"petal_length\", color=\"species\")\n",
    "        app.get_page(2).add_plotly_fig(fig=fig3, png=False)\n",
    "\n",
    "        app.update_status(name=caller, message=\"Done Drawing\", running=False)\n",
    "\n"
   ]
  },
  {
   "cell_type": "code",
   "execution_count": 3,
   "metadata": {},
   "outputs": [
    {
     "data": {
      "text/html": [
       "<script>\n",
       "                    if (window.location.href.indexOf('voila') >= 0){\n",
       "                        const l=document.createElement('link');\n",
       "                        l.setAttribute('rel','stylesheet');  \n",
       "                        l.setAttribute('type','text/css');\n",
       "                        l.setAttribute('href',`${window.location.href.split('/').slice(0,7).join('/')}/static/theme-light.css`);\n",
       "                        document.body.appendChild(l);\n",
       "                        document.body.classList.remove('theme-dark')\n",
       "                        document.body.classList.add('theme-light')\n",
       "                    }\n",
       "                </script>\n",
       "                "
      ],
      "text/plain": [
       "<nbappinator.appinator.ThemeFixer at 0x1cf05371790>"
      ]
     },
     "metadata": {},
     "output_type": "display_data"
    },
    {
     "data": {
      "application/vnd.jupyter.widget-view+json": {
       "model_id": "ef142fa3d702426aa4d50712803bf990",
       "version_major": 2,
       "version_minor": 0
      },
      "text/plain": [
       "Html(children=[Html(children=['\\n    .vuetify-styles code, .vuetify-styles kbd, .vuetify-styles pre, .vuetify-…"
      ]
     },
     "execution_count": 3,
     "metadata": {},
     "output_type": "execute_result"
    }
   ],
   "source": [
    "# Creates a one \"tab\" app, with a config section on top, and a dataframe grid below.\n",
    "# Clicking \"Update Precision\" will redraw the dataframe grid with the selected precision\n",
    "\n",
    "sources = ['https://raw.githubusercontent.com/mwaskom/seaborn-data/master/iris.csv', 'https://raw.githubusercontent.com/mwaskom/seaborn-data/master/penguins.csv']\n",
    "\n",
    "myapp = nbapp.TabbedUiModel(pages=PAGES, log_footer = \"Messages\", headers=[\"Config\"])\n",
    "\n",
    "config_page = myapp.get_page(0)\n",
    "\n",
    "config_page.add_select(name=\"source\", label=\"Source\", options=sources, value=sources[0])\n",
    "config_page.add_button(name=\"b_chart\", label=\"Draw Chart\", action=add_chart, status=True)\n",
    "\n",
    "add_chart(None, None, None, app=myapp, caller=\"b_chart\")\n",
    "myapp.display()"
   ]
  }
 ],
 "metadata": {
  "kernelspec": {
   "display_name": "Python 3",
   "language": "python",
   "name": "python3"
  },
  "language_info": {
   "codemirror_mode": {
    "name": "ipython",
    "version": 3
   },
   "file_extension": ".py",
   "mimetype": "text/x-python",
   "name": "python",
   "nbconvert_exporter": "python",
   "pygments_lexer": "ipython3",
   "version": "3.11.8"
  }
 },
 "nbformat": 4,
 "nbformat_minor": 2
}
