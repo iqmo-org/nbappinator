{
 "cells": [
  {
   "cell_type": "code",
   "execution_count": null,
   "metadata": {},
   "outputs": [],
   "source": [
    "import pandas as pd\n",
    "import seaborn as sns\n",
    "import nbappinator as nbapp\n",
    "\n",
    "import matplotlib\n",
    "matplotlib.use('agg') \n",
    "\n",
    "PAGES = [\"Chart\"]"
   ]
  },
  {
   "cell_type": "code",
   "execution_count": null,
   "metadata": {},
   "outputs": [],
   "source": [
    "def add_chart(component, action, args, app: nbapp.UiModel, caller: str):\n",
    "    with app.messages:\n",
    "\n",
    "        target_page = app.get_page(0)\n",
    "        target_page.clear()\n",
    "\n",
    "        app.update_status(name=caller, message=\"Drawing Chart\", running=True)\n",
    "        source = target_page.app.get_valuestr(\"source\")\n",
    "\n",
    "        df = pd.read_csv(source)\n",
    "          \n",
    "        sns_plot = sns.pairplot(df, hue='species')\n",
    "\n",
    "        target_page.add_plt(plt=sns_plot)\n",
    "\n",
    "        target_page.app.update_status(name=caller, message=\"Done Drawing\", running=False)"
   ]
  },
  {
   "cell_type": "code",
   "execution_count": null,
   "metadata": {},
   "outputs": [],
   "source": [
    "# Creates a one \"tab\" app, with a config section on top, and a dataframe grid below.\n",
    "# Clicking \"Update Precision\" will redraw the dataframe grid with the selected precision\n",
    "\n",
    "sources = ['https://raw.githubusercontent.com/mwaskom/seaborn-data/master/iris.csv', 'https://raw.githubusercontent.com/mwaskom/seaborn-data/master/penguins.csv']\n",
    "\n",
    "myapp = nbapp.TabbedUiModel(pages=PAGES, log_footer = \"Messages\", headers=[\"Config\"])\n",
    "\n",
    "config_page = myapp.get_page(\"Config\")\n",
    "\n",
    "config_page.add_select(name=\"source\", label=\"Source\", options=sources, value=sources[0])\n",
    "config_page.add_button(name=\"b_chart\", label=\"Draw Chart\", action=add_chart, status=True)\n",
    "\n",
    "add_chart(None, None, None, app=myapp, caller=\"b_chart\")\n",
    "myapp.display()"
   ]
  }
 ],
 "metadata": {
  "kernelspec": {
   "display_name": "Python 3",
   "language": "python",
   "name": "python3"
  },
  "language_info": {
   "codemirror_mode": {
    "name": "ipython",
    "version": 3
   },
   "file_extension": ".py",
   "mimetype": "text/x-python",
   "name": "python",
   "nbconvert_exporter": "python",
   "pygments_lexer": "ipython3",
   "version": "3.11.8"
  }
 },
 "nbformat": 4,
 "nbformat_minor": 2
}
