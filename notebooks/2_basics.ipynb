{
 "cells": [
  {
   "cell_type": "code",
   "execution_count": null,
   "metadata": {},
   "outputs": [],
   "source": [
    "%load_ext autoreload\n",
    "%autoreload 2\n",
    "\n"
   ]
  },
  {
   "cell_type": "code",
   "execution_count": null,
   "metadata": {},
   "outputs": [],
   "source": [
    "### Basic UI Widgets\n",
    "import nbappinator as nbapp\n",
    "\n",
    "PAGES = [\"Table\", \"Chart\"]\n",
    "\n",
    "myapp = nbapp.TabbedUiModel(pages=PAGES, log_footer = \"Messages\", headers=[\"Config\"])\n",
    "\n",
    "page = myapp.get_page(PAGES[0])\n",
    "\n",
    "page.add_textarea(label=\"This is a textarea\")\n",
    "page.add_textfield(label=\"This is a textfield\")\n",
    "page.add_textstatic(\"This is textstatic\")\n",
    "page.add_textpre(\"This is textpre\")\n",
    "page.add_separator(color=\"red\")\n",
    "\n",
    "\n",
    "myapp.display()"
   ]
  },
  {
   "cell_type": "code",
   "execution_count": null,
   "metadata": {},
   "outputs": [],
   "source": [
    "### add_df\n",
    "\n",
    "import pandas as pd\n",
    "PAGES = [\"Table\", \"Table 2\"]\n",
    "\n",
    "\n",
    "myapp = nbapp.TabbedUiModel(pages=PAGES, log_footer = \"Messages\", headers=[\"Config\"])\n",
    "page1 = myapp.get_page(PAGES[0])\n",
    "page2 = myapp.get_page(PAGES[1])\n",
    "\n",
    "df = pd.DataFrame({\"col1\": range(10)})\n",
    "page1.add_df(df=df, table_viewer = True)\n",
    "page2.add_df(df=df, action=lambda x: print(f\"You clicked on {x}\"), multiselect=True)\n",
    "\n",
    "myapp.display()"
   ]
  },
  {
   "cell_type": "code",
   "execution_count": null,
   "metadata": {},
   "outputs": [],
   "source": []
  },
  {
   "cell_type": "code",
   "execution_count": null,
   "metadata": {},
   "outputs": [],
   "source": [
    "### Various features\n",
    "import pandas as pd\n",
    "PAGES = [\"Table\", \"Table 2\"]\n",
    "\n",
    "\n",
    "myapp = nbapp.TabbedUiModel(pages=PAGES, log_footer = \"Messages\", headers=[\"Config\"])\n",
    "\n",
    "# Can get a page by name or index\n",
    "cpage = myapp.get_page(\"Config\")\n",
    "cpage.add_button(\"Some Button\", action=lambda a,b,c,app,caller: app.get_page(0).add_textstatic(f\"You clicked {caller}\"))\n",
    "\n",
    "page1 = myapp.get_page(\"Table\")\n",
    "page2 = myapp.get_page(1)\n",
    "\n",
    "df = pd.DataFrame({\"col1\": range(10)})\n",
    "df2 = pd.DataFrame({\"col1\": range(10)})\n",
    "\n",
    "page1.add_df(df=df)\n",
    "page2.add_df(df=df2, action=lambda x: myapp.get_page(1).add_textstatic(f\"You clicked on {x}\"))\n",
    "\n",
    "page1.clear()\n",
    "\n",
    "with myapp.messages:\n",
    "    print(\"This will go to messages\")\n",
    "\n",
    "myapp.clear_messages()\n",
    "\n",
    "myapp.display()"
   ]
  },
  {
   "cell_type": "code",
   "execution_count": null,
   "metadata": {},
   "outputs": [],
   "source": [
    "### Containers\n",
    "import pandas as pd\n",
    "PAGES = [\"Vertical Box\", \"Horizontal Box\", \"V Container\"]\n",
    "\n",
    "\n",
    "myapp = nbapp.TabbedUiModel(pages=PAGES, log_footer = \"Messages\", headers=[\"Config\"])\n",
    "page1 = myapp.get_page(0)\n",
    "page2 = myapp.get_page(1)\n",
    "page3 = myapp.get_page(2)\n",
    "\n",
    "box1 = page1.add_box(name=\"SomeBox\", horiz=False)\n",
    "box1.add_textstatic(\"Hi\")\n",
    "box1.add_button(label=\"Click Me\", action=lambda a,b,c,app, caller: print(f\"I was called from: {caller}\"))\n",
    "\n",
    "box2 = page2.add_box(name=\"SomeBox2\", horiz=True)\n",
    "box2.add_textstatic(\"Horizontal\")\n",
    "box2.add_button(label=\"Click Me2\", action=lambda a,b,c,app, caller: print(f\"I was called from: {caller}\"))\n",
    "box2.add_textstatic(\"Box\")\n",
    "\n",
    "container = page3.add_container(\"v.Container\")\n",
    "container.add_button(label=\"Click Me3\", action=lambda a,b,c,app, caller: print(f\"I was called from: {caller}\"))\n",
    "\n",
    "print(myapp.pages)\n",
    "myapp.display()"
   ]
  },
  {
   "cell_type": "code",
   "execution_count": null,
   "metadata": {},
   "outputs": [],
   "source": [
    "### Basic UI Widgets\n",
    "import nbappinator as nbapp\n",
    "\n",
    "PAGES = [\"Table\", \"Chart\"]\n",
    "\n",
    "myapp = nbapp.TabbedUiModel(pages=PAGES, title=\"Some Title That'll Only Show Up in Voila\", log_footer = \"Messages\", headers=[\"Config\"])\n",
    "\n",
    "page = myapp.get_page(PAGES[0])\n",
    "\n",
    "page.add_textstatic(\"This is textstatic\")\n",
    "page.add_select(label=\"This is a dropdown\", options=[\"A\", \"B\"], action=lambda a,b,value,app,caller: app.get_page(0).add_textstatic(f\"You clicked on {value}\"))\n",
    "page.add_select(label=\"This is a combobox: you can also type text\", type=nbapp.SelectTypes.combobox, options=[\"A\", \"B\"], action=lambda a,b,value,app,caller: app.get_page(0).add_textstatic(f\"You clicked on {value}\"))\n",
    "page.add_select(label=\"This is a slider\", type=nbapp.SelectTypes.slider, options=range(0,100), action=lambda a,b,value,app,caller: app.get_page(0).add_textstatic(f\"You slide to {value}\"))\n",
    "page.add_select(label=\"This is a radio\", type=nbapp.SelectTypes.radio, options=[\"A\", \"B\"], action=lambda a,b,value,app,caller: app.get_page(0).add_textstatic(f\"You clicked on {value}\"))\n",
    "\n",
    "page.add_separator(color=\"red\")\n",
    "\n",
    "\n",
    "myapp.display()"
   ]
  }
 ],
 "metadata": {
  "kernelspec": {
   "display_name": "Python 3",
   "language": "python",
   "name": "python3"
  },
  "language_info": {
   "codemirror_mode": {
    "name": "ipython",
    "version": 3
   },
   "file_extension": ".py",
   "mimetype": "text/x-python",
   "name": "python",
   "nbconvert_exporter": "python",
   "pygments_lexer": "ipython3",
   "version": "3.11.8"
  }
 },
 "nbformat": 4,
 "nbformat_minor": 2
}
