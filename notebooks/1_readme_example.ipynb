{
 "cells": [
  {
   "cell_type": "code",
   "execution_count": null,
   "metadata": {},
   "outputs": [],
   "source": [
    "import nbappinator as nbapp\n",
    "\n",
    "PAGES = [\"First Tab\", \"Second Tab\"]\n",
    "\n",
    "def my_action(component, action, args, app: nbapp.UiModel, caller: str):\n",
    "    with app.messages:\n",
    "        print(\"This message will be written to the Messages footer\")\n",
    "\n",
    "        app.get_page(PAGES[0]).add_textstatic(\"ts1\", \"This is some text\")\n",
    "\n",
    "\n",
    "def choose_action(component, action, args, app: nbapp.UiModel, caller: str):\n",
    "    with app.messages:\n",
    "        chosen_value = app.get_values(caller)\n",
    "\n",
    "        print(f\"You chose {chosen_value}\")\n",
    "\n",
    "        app.get_page(PAGES[1]).add_textstatic(f\"You chose {chosen_value}\")\n",
    "\n",
    "# Create a Tabbed UI comprised of three sections:\n",
    "# \"Config\" Header\n",
    "# Tabbed Pages: \"First Tab\" and \"Second Tab\"\n",
    "# \"Messages\" Footer\n",
    "myapp = nbapp.TabbedUiModel(pages=PAGES, log_footer = \"Messages\", headers=[\"Config\"])\n",
    "\n",
    "myapp.get_page(\"Config\").add_textstatic(\"This is some static text in the Config section of the page. You could add global settings, buttons and other widgets here.\")\n",
    "\n",
    "\n",
    "# Add a button to First Tab\n",
    "myapp.get_page(PAGES[0]).add_button(name=\"b1\", label=\"Some button\", action=my_action)\n",
    "myapp.get_page(PAGES[0]).add_textstatic(\"Click the button\")\n",
    "\n",
    "# Add a dropdown selection to Second Tab\n",
    "myapp.get_page(PAGES[1]).add_select(name=\"s1\", label=\"Choose A Number\", options=list(range(10)), action=choose_action)\n",
    "\n",
    "# Render the app:\n",
    "myapp.display()"
   ]
  }
 ],
 "metadata": {
  "kernelspec": {
   "display_name": "Python 3",
   "language": "python",
   "name": "python3"
  },
  "language_info": {
   "codemirror_mode": {
    "name": "ipython",
    "version": 3
   },
   "file_extension": ".py",
   "mimetype": "text/x-python",
   "name": "python",
   "nbconvert_exporter": "python",
   "pygments_lexer": "ipython3",
   "version": "3.11.8"
  }
 },
 "nbformat": 4,
 "nbformat_minor": 2
}
