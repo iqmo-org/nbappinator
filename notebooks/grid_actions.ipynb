{
 "cells": [
  {
   "cell_type": "code",
   "execution_count": null,
   "metadata": {},
   "outputs": [],
   "source": [
    "import pandas as pd\n",
    "import numpy as np\n",
    "from ipywidgets import Output\n",
    "from nbappinator.datagrid import DataGrid\n"
   ]
  },
  {
   "cell_type": "code",
   "execution_count": null,
   "metadata": {},
   "outputs": [],
   "source": [
    "import logging\n",
    "FORMAT = \"%(name)s:%(filename)s:%(lineno)s - %(funcName)20s() %(message).240s\"\n",
    "\n",
    "logging.basicConfig(format=FORMAT, level=logging.INFO)\n",
    "logging.getLogger(\"Initialized\")"
   ]
  },
  {
   "cell_type": "code",
   "execution_count": null,
   "metadata": {},
   "outputs": [],
   "source": [
    "%%javascript \n",
    "\n",
    "IPython"
   ]
  },
  {
   "cell_type": "code",
   "execution_count": null,
   "metadata": {},
   "outputs": [],
   "source": [
    "# Globals that are used throughout the app\n",
    "\n",
    "DF = pd.DataFrame(np.random.uniform(1, 1000, size=(20, 10)), columns=[f\"col_{r}\" for r in range(0,10)])\n",
    "out = Output()\n",
    "\n",
    "display(out)"
   ]
  },
  {
   "cell_type": "code",
   "execution_count": null,
   "metadata": {},
   "outputs": [],
   "source": [
    "dg = DataGrid(grid_data = DF)\n",
    "\n",
    "def f1(x):\n",
    "    with out:\n",
    "        print(\"This should never print\")\n",
    "\n",
    "def f2(x):\n",
    "    with out:\n",
    "        print(f\"This should print: {x}\")\n",
    "\n",
    "\n",
    "with out:\n",
    "    action1 = f1\n",
    "    action2 = f2\n",
    "\n",
    "    dg.on('cellClicked', action1)\n",
    "    result1 = dg.remove_message_handler(action1)\n",
    "    assert result1 is True\n",
    "\n",
    "    result2 = dg.remove_message_handler(action1)\n",
    "    assert result2 is False\n",
    "    \n",
    "    dg.on('cellClicked', action2)\n",
    "\n",
    "    gridid=dg.get_manager_state()\n",
    "    print(f\"Grid Id = {dg._id}\")\n",
    "dg"
   ]
  },
  {
   "cell_type": "code",
   "execution_count": null,
   "metadata": {},
   "outputs": [],
   "source": [
    "dg.process_message({'type': 'gridEvent', 'event_type': 'cellClicked', 'col_clicked': 'col_2', 'row_clicked': 10, 'value_clicked': 58.27081607248781, 'currentSelection': [{'key': None, 'id': '10', 'data': {'col_0': 249.38090428447725, 'col_1': 216.4569437373001, 'col_2': 58.27081607248781, 'col_3': 119.08673151109217, 'col_4': 423.1607486888462, 'col_5': 617.3459999956713, 'col_6': 649.4021159850901, 'col_7': 663.527143961815, 'col_8': 237.94862218011997, 'col_9': 257.61061384916803}}]})"
   ]
  },
  {
   "cell_type": "code",
   "execution_count": null,
   "metadata": {},
   "outputs": [],
   "source": [
    "# Send a message to ignore\n",
    "# This is a somewhat meaningless test\n",
    "\n",
    "dg.process_message({'type': 'THIS WILL BE IGNORED', 'event_type': 'ignoreme', 'col_clicked': 'col_2', 'row_clicked': 10, 'value_clicked': 58.27081607248781, 'currentSelection': [{'key': None, 'id': '10', 'data': {'col_0': 249.38090428447725, 'col_1': 216.4569437373001, 'col_2': 58.27081607248781, 'col_3': 119.08673151109217, 'col_4': 423.1607486888462, 'col_5': 617.3459999956713, 'col_6': 649.4021159850901, 'col_7': 663.527143961815, 'col_8': 237.94862218011997, 'col_9': 257.61061384916803}}]})"
   ]
  },
  {
   "cell_type": "code",
   "execution_count": null,
   "metadata": {},
   "outputs": [],
   "source": [
    "assert len(out._trait_values[\"outputs\"])>0\n",
    "\n",
    "text = out._trait_values[\"outputs\"][0][\"text\"]\n",
    "\n",
    "assert \"This should print:\" in text\n",
    "assert len(out._trait_values[\"outputs\"][0]) == 3"
   ]
  }
 ],
 "metadata": {
  "kernelspec": {
   "display_name": "Python 3 (ipykernel)",
   "language": "python",
   "name": "python3"
  },
  "language_info": {
   "codemirror_mode": {
    "name": "ipython",
    "version": 3
   },
   "file_extension": ".py",
   "mimetype": "text/x-python",
   "name": "python",
   "nbconvert_exporter": "python",
   "pygments_lexer": "ipython3",
   "version": "3.11.8"
  }
 },
 "nbformat": 4,
 "nbformat_minor": 4
}
