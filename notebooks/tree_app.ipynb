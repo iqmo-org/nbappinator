{
 "cells": [
  {
   "cell_type": "code",
   "execution_count": null,
   "metadata": {},
   "outputs": [],
   "source": [
    "import nbappinator as nbapp"
   ]
  },
  {
   "cell_type": "code",
   "execution_count": null,
   "metadata": {},
   "outputs": [],
   "source": [
    "def get_tree_value(component, action, args, app: nbapp.UiModel, caller: str):\n",
    "    val = app.get_values(\"tree1\")\n",
    "    app.update_status(name=caller, message=f\"Tree selected value = {val}\", running=False)"
   ]
  },
  {
   "cell_type": "code",
   "execution_count": null,
   "metadata": {},
   "outputs": [],
   "source": [
    "# Globals that are used throughout the app\n",
    "PAGES = [\"Tree Widget\"]\n",
    "myapp = nbapp.TabbedUiModel(pages=PAGES)\n",
    "\n",
    "mainpage = myapp.get_page(PAGES[0])\n",
    "\n",
    "mainpage.add_textstatic(name=\"t1\", value=\"The following is a selectable tree view\")\n",
    "\n",
    "# Each node must be added in order: can't add org1/something without a preceding org1, for instance.\n",
    "mainpage.add_tree(name=\"tree1\", paths=[\"org1\", \"org1/something\", \"org2\", \"org2/somethingelse\"], delim=\"/\")\n",
    "mainpage.add_button(name=\"get_val\", label=\"Get Selected Value from Tree\", action=get_tree_value, status=True)\n",
    "\n",
    "myapp.display()"
   ]
  }
 ],
 "metadata": {
  "kernelspec": {
   "display_name": "Python 3",
   "language": "python",
   "name": "python3"
  },
  "language_info": {
   "codemirror_mode": {
    "name": "ipython",
    "version": 3
   },
   "file_extension": ".py",
   "mimetype": "text/x-python",
   "name": "python",
   "nbconvert_exporter": "python",
   "pygments_lexer": "ipython3",
   "version": "3.11.8"
  }
 },
 "nbformat": 4,
 "nbformat_minor": 2
}
