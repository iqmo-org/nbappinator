{
 "cells": [
  {
   "cell_type": "markdown",
   "metadata": {},
   "source": [
    "# Displaying a DataGrid\n",
    "\n",
    "This example doesn't use the appinator, it only uses the underlying DataGrid widget.\n",
    "\n",
    "Features shown:\n",
    "- Display a table\n",
    "- Set column metadata to control formatting\n",
    "- Add a click handler for clicking on Cells\n",
    "\n",
    "A few notes:\n",
    "- Columns are, by default, Title Cased... so: sepal_length is displayed as Sepal Length"
   ]
  },
  {
   "cell_type": "code",
   "execution_count": null,
   "metadata": {},
   "outputs": [],
   "source": [
    "import pandas as pd\n",
    "from nbappinator.datagrid import DataGrid, ColMd\n",
    "\n",
    "import logging \n",
    "logger = logging.getLogger(__name__)"
   ]
  },
  {
   "cell_type": "code",
   "execution_count": null,
   "metadata": {
    "tags": []
   },
   "outputs": [],
   "source": [
    "grid_data = {\"species\": [\"something\"]*100, \"sepal_length\": range(100), \"some_perc\": range(100)}\n",
    "\n",
    "# To use a more complete dataset:\n",
    "# data = pd.read_csv('https://raw.githubusercontent.com/mwaskom/seaborn-data/master/iris.csv')\n",
    "\n",
    "DataGrid(grid_data, showindex=True)  # type: ignore"
   ]
  },
  {
   "cell_type": "code",
   "execution_count": null,
   "metadata": {},
   "outputs": [],
   "source": [
    "data = pd.DataFrame(grid_data)\n"
   ]
  },
  {
   "cell_type": "code",
   "execution_count": null,
   "metadata": {
    "tags": []
   },
   "outputs": [],
   "source": [
    "# Same data, but with column metadata definitions\n",
    "\n",
    "col_md = [\n",
    "    ColMd(name=\"species\", pinned=True),\n",
    "    ColMd(name=\"sepal_length\", label=\"Length of Sepal\", format=\"dec\", precision=3),\n",
    "    ColMd(name=\"some_perc\", label=\"Some Percentage\", format=\"perc_div\", precision=3)\n",
    "]\n",
    "grid = DataGrid(quick_filter=True,\n",
    "             theme='ag-theme-balham',\n",
    "             compress_data=True,\n",
    "             col_md=col_md,\n",
    "             grid_data=data,\n",
    "             columns_fit=\"auto\",\n",
    "             events=[\"cellClicked\"]\n",
    "            )\n",
    "grid"
   ]
  },
  {
   "cell_type": "code",
   "execution_count": null,
   "metadata": {},
   "outputs": [],
   "source": [
    "# With click events\n",
    "\n",
    "col_md = [\n",
    "    ColMd(name=\"species\", pinned=True),\n",
    "    ColMd(name=\"sepal_length\", label=\"Length of Sepal\", format=\"dec\", precision=3),\n",
    "    ColMd(name=\"some_perc\", hidden=True),\n",
    "    \n",
    "]\n",
    "grid3 = DataGrid(quick_filter=True,\n",
    "             theme='ag-theme-balham',\n",
    "             compress_data=True,\n",
    "             col_md=col_md,\n",
    "             grid_data=data,\n",
    "             columns_fit=\"auto\",\n",
    "             events=[\"cellClicked\"]\n",
    "            )\n",
    "\n",
    "def cell_clicked(evt):\n",
    "    print(f\"cell clicked {evt}\")\n",
    "    print(f\"pivot current selection {grid.current_selection}\")\n",
    "\n",
    "grid3.on(\"cellClicked\",cell_clicked)\n",
    "\n",
    "grid3"
   ]
  },
  {
   "cell_type": "code",
   "execution_count": null,
   "metadata": {},
   "outputs": [],
   "source": [
    "# Use a name that's not a string\n",
    "\n",
    "col_md = [\n",
    "    ColMd(name=5),\n",
    "    ColMd(name=\"sepal_length\", label=\"Length of Sepal\", format=\"some_perc\", precision=3),\n",
    "]\n",
    "grid_b = DataGrid(quick_filter=True,\n",
    "             theme='ag-theme-balham',\n",
    "             compress_data=True,\n",
    "             col_md=col_md,\n",
    "             grid_data=data,\n",
    "             columns_fit=\"auto\",\n",
    "             events=[\"cellClicked\"]\n",
    "            )\n",
    "grid_b"
   ]
  },
  {
   "cell_type": "code",
   "execution_count": null,
   "metadata": {
    "tags": []
   },
   "outputs": [],
   "source": [
    "# With multi-select\n",
    "\n",
    "multiple_grid = DataGrid(quick_filter=True,\n",
    "             theme='ag-theme-balham',\n",
    "             compress_data=True,\n",
    "             grid_data=data,\n",
    "            select_mode=\"multiple\",\n",
    "             columns_fit=\"auto\",\n",
    "             events=[\"cellClicked\"]\n",
    "            )\n",
    "multiple_grid\n",
    "\n",
    "\n",
    "def cell_clicked(evt):\n",
    "    print(f\"cell clicked {evt}\")\n",
    "    print(f\"multiple current selection {multiple_grid.current_selection}\")\n",
    "\n",
    "multiple_grid.on(\"cellClicked\",cell_clicked)\n",
    "\n",
    "display(multiple_grid)"
   ]
  },
  {
   "cell_type": "code",
   "execution_count": null,
   "metadata": {},
   "outputs": [],
   "source": [
    "# With selections disabled\n",
    "\n",
    "no_selection_grid = DataGrid(quick_filter=True,\n",
    "            theme='ag-theme-balham',\n",
    "            compress_data=True,\n",
    "            grid_data=data,\n",
    "            select_mode=None,\n",
    "            columns_fit=\"auto\",\n",
    "            events=[\"cellClicked\"]\n",
    "            )\n",
    "\n",
    "def cell_clicked(evt):\n",
    "    print(f\"cell clicked {evt}\")\n",
    "    print(f\"pivot current selection {no_selection_grid.current_selection}\")\n",
    "\n",
    "no_selection_grid.on(\"cellClicked\",cell_clicked)\n",
    "no_selection_grid"
   ]
  }
 ],
 "metadata": {
  "kernelspec": {
   "display_name": "Python 3 (ipykernel)",
   "language": "python",
   "name": "python3"
  },
  "language_info": {
   "codemirror_mode": {
    "name": "ipython",
    "version": 3
   },
   "file_extension": ".py",
   "mimetype": "text/x-python",
   "name": "python",
   "nbconvert_exporter": "python",
   "pygments_lexer": "ipython3",
   "version": "3.11.8"
  }
 },
 "nbformat": 4,
 "nbformat_minor": 4
}
