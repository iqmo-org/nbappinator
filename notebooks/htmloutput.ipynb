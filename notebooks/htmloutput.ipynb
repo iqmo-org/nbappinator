{
 "cells": [
  {
   "cell_type": "markdown",
   "metadata": {},
   "source": [
    "# Displaying a DataGrid\n",
    "\n",
    "This example doesn't use the appinator, it only uses the underlying DataGrid widget.\n",
    "\n",
    "Features shown:\n",
    "- Display a table\n",
    "- Set column metadata to control formatting\n",
    "- Add a click handler for clicking on Cells\n",
    "\n",
    "A few notes:\n",
    "- Columns are, by default, Title Cased... so: sepal_length is displayed as Sepal Length"
   ]
  },
  {
   "cell_type": "code",
   "execution_count": null,
   "metadata": {
    "tags": []
   },
   "outputs": [],
   "source": [
    "import nbappinator as nbapp\n",
    "\n",
    "html_body = \"\"\"<div>aslkdjasdlkjasdlkjasldkj</div><pre>foooasdajklshd\n",
    "asd\n",
    "asd\n",
    "asd\n",
    "</pre>\"\"\"\n",
    "\n",
    "myapp = nbapp.TabbedUiModel(pages=[\"First Tab\"], log_footer = \"Messages\", headers=[\"Config\"])\n",
    "\n",
    "myapp.get_page(0).add_html(html_body, name=\"myhtml\")\n",
    "\n",
    "myapp.display()"
   ]
  }
 ],
 "metadata": {
  "kernelspec": {
   "display_name": "Python 3 (ipykernel)",
   "language": "python",
   "name": "python3"
  },
  "language_info": {
   "codemirror_mode": {
    "name": "ipython",
    "version": 3
   },
   "file_extension": ".py",
   "mimetype": "text/x-python",
   "name": "python",
   "nbconvert_exporter": "python",
   "pygments_lexer": "ipython3",
   "version": "3.11.8"
  }
 },
 "nbformat": 4,
 "nbformat_minor": 4
}
